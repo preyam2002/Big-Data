{
  "cells": [
    {
      "cell_type": "code",
      "execution_count": 2,
      "metadata": {
        "colab": {
          "base_uri": "https://localhost:8080/"
        },
        "id": "PEm8H7-l_vWA",
        "outputId": "f3739d4c-3434-4039-82ce-29c3a110d703"
      },
      "outputs": [],
      "source": [
        "import threading\n",
        "import re\n",
        "import os\n",
        "import sys\n",
        "\n",
        "path = \"20_newsgroups\"\n",
        "numThreads = 4\n",
        "n = 4\n",
        "k = 10 \n",
        "# path = sys.argv[1]\n",
        "# numThreads = int(sys.argv[2])\n",
        "# n = int(sys.argv[3])\n",
        "\n",
        "directories = []\n",
        "for directory in os.listdir(path):\n",
        "    directories.append(os.path.join(path,directory))\n",
        "\n",
        "count = [[dict()]*len(directories)]*numThreads\n",
        "threads = [None]*numThreads\n",
        "\n",
        "def countNgrams(threadNumber):\n",
        "    dirNumber = 0\n",
        "    for directory in directories:\n",
        "        print(directory, \"________\" , threadNumber)\n",
        "        size,rem = divmod(len(os.listdir(directory)),numThreads)\n",
        "        start = size*threadNumber + min(rem,threadNumber)\n",
        "        end = start + size + int(threadNumber<rem)\n",
        "        for file in os.listdir(directory)[start:end]:      \n",
        "            f = open(os.path.join(directory,file), \"r\")\n",
        "            text = f.read()\n",
        "            f.close()\n",
        "            words = list(filter(bool,re.split('[^a-zA-Z0-9]', text)))\n",
        "            words = [word.lower() for word in words]\n",
        "            for i in range(len(words)-n+1):\n",
        "                nGrams = []\n",
        "                for j in range(n):\n",
        "                    nGrams.append(words[i+j])\n",
        "                nGram = \" \".join(nGrams)\n",
        "                if nGram in count[threadNumber][dirNumber]:\n",
        "                    count[threadNumber][dirNumber][nGram]+=1\n",
        "                else:\n",
        "                    count[threadNumber][dirNumber][nGram]=1\n",
        "        dirNumber+=1\n"
      ]
    },
    {
      "cell_type": "code",
      "execution_count": 3,
      "metadata": {},
      "outputs": [
        {
          "name": "stdout",
          "output_type": "stream",
          "text": [
            "20_newsgroups\\alt.atheism20_newsgroups\\alt.atheism ________ 1\n",
            " ________ 0\n",
            "20_newsgroups\\alt.atheism ________ 2\n",
            "20_newsgroups\\alt.atheism ________ 3\n",
            "20_newsgroups\\comp.graphics ________ 3\n",
            "20_newsgroups\\comp.graphics ________ 2\n",
            "20_newsgroups\\comp.graphics ________ 120_newsgroups\\comp.graphics \n",
            "________ 0\n",
            "20_newsgroups\\comp.os.ms-windows.misc ________ 3\n",
            "20_newsgroups\\comp.os.ms-windows.misc ________ 2\n",
            "20_newsgroups\\comp.os.ms-windows.misc ________ 1\n",
            "20_newsgroups\\comp.os.ms-windows.misc ________ 0\n",
            "20_newsgroups\\comp.sys.ibm.pc.hardware ________ 1\n",
            "20_newsgroups\\comp.sys.ibm.pc.hardware ________ 3\n",
            "20_newsgroups\\comp.sys.ibm.pc.hardware ________ 0\n",
            "20_newsgroups\\comp.sys.ibm.pc.hardware ________ 2\n",
            "20_newsgroups\\comp.sys.mac.hardware ________ 1\n",
            "20_newsgroups\\comp.sys.mac.hardware ________ 3\n",
            "20_newsgroups\\comp.sys.mac.hardware ________20_newsgroups\\comp.sys.mac.hardware 2\n",
            " ________ 0\n",
            "20_newsgroups\\comp.windows.x ________ 1\n",
            "20_newsgroups\\comp.windows.x ________ 3\n",
            "20_newsgroups\\comp.windows.x ________ 0\n",
            "20_newsgroups\\comp.windows.x ________ 2\n",
            "20_newsgroups\\misc.forsale ________ 1\n",
            "20_newsgroups\\misc.forsale ________ 3\n",
            "20_newsgroups\\misc.forsale ________ 0\n",
            "20_newsgroups\\misc.forsale ________ 2\n",
            "20_newsgroups\\rec.autos ________ 1\n",
            "20_newsgroups\\rec.autos 20_newsgroups\\rec.autos________ 2\n",
            " ________ 3\n",
            "20_newsgroups\\rec.autos ________ 0\n",
            "20_newsgroups\\rec.motorcycles ________ 1\n",
            "20_newsgroups\\rec.motorcycles ________ 2\n",
            "20_newsgroups\\rec.motorcycles ________ 0\n",
            "20_newsgroups\\rec.motorcycles ________ 3\n",
            "20_newsgroups\\rec.sport.baseball ________ 1\n",
            "20_newsgroups\\rec.sport.baseball ________ 2\n",
            "20_newsgroups\\rec.sport.baseball ________ 0\n",
            "20_newsgroups\\rec.sport.baseball ________ 3\n",
            "20_newsgroups\\rec.sport.hockey ________ 1\n",
            "20_newsgroups\\rec.sport.hockey ________ 2\n",
            "20_newsgroups\\rec.sport.hockey ________ 3\n",
            "20_newsgroups\\rec.sport.hockey ________ 0\n",
            "20_newsgroups\\sci.crypt ________ 2\n",
            "20_newsgroups\\sci.crypt ________ 1\n",
            "20_newsgroups\\sci.crypt ________ 3\n",
            "20_newsgroups\\sci.crypt ________ 0\n",
            "20_newsgroups\\sci.electronics ________ 1\n",
            "20_newsgroups\\sci.electronics ________ 2\n",
            "20_newsgroups\\sci.electronics 20_newsgroups\\sci.electronics________ 3\n",
            " ________ 0\n",
            "20_newsgroups\\sci.med ________ 1\n",
            "20_newsgroups\\sci.med ________ 2\n",
            "20_newsgroups\\sci.med ________ 0\n",
            "20_newsgroups\\sci.med ________ 3\n",
            "20_newsgroups\\sci.space ________ 2\n",
            "20_newsgroups\\sci.space ________ 3\n",
            "20_newsgroups\\sci.space ________ 20_newsgroups\\sci.space ________ 0\n",
            "1\n",
            "20_newsgroups\\soc.religion.christian ________ 2\n",
            "20_newsgroups\\soc.religion.christian ________ 20_newsgroups\\soc.religion.christian3\n",
            " ________ 0\n",
            "20_newsgroups\\soc.religion.christian ________ 1\n",
            "20_newsgroups\\talk.politics.guns ________ 1\n",
            "20_newsgroups\\talk.politics.guns ________ 3\n",
            "20_newsgroups\\talk.politics.guns ________ 2\n",
            "20_newsgroups\\talk.politics.guns ________ 0\n",
            "20_newsgroups\\talk.politics.mideast ________ 3\n",
            "20_newsgroups\\talk.politics.mideast ________ 0\n",
            "20_newsgroups\\talk.politics.mideast ________ 1\n",
            "20_newsgroups\\talk.politics.mideast ________ 2\n",
            "20_newsgroups\\talk.politics.misc20_newsgroups\\talk.politics.misc ________ 1\n",
            " ________ 0\n",
            "20_newsgroups\\talk.politics.misc ________ 2\n",
            "20_newsgroups\\talk.politics.misc ________ 3\n",
            "20_newsgroups\\talk.religion.misc ________ 1\n",
            "20_newsgroups\\talk.religion.misc ________ 020_newsgroups\\talk.religion.misc\n",
            " ________ 2\n",
            "20_newsgroups\\talk.religion.misc ________ 3\n"
          ]
        }
      ],
      "source": [
        "\n",
        "for i in range(len(threads)):\n",
        "    threads[i] = threading.Thread(target=countNgrams ,args=(i,))\n",
        "    threads[i].start() \n",
        "\n",
        "for i in range(len(threads)):\n",
        "    threads[i].join() \n"
      ]
    },
    {
      "cell_type": "code",
      "execution_count": 4,
      "metadata": {},
      "outputs": [
        {
          "data": {
            "text/plain": [
              "4382541"
            ]
          },
          "execution_count": 4,
          "metadata": {},
          "output_type": "execute_result"
        }
      ],
      "source": [
        "len(count[0][0])"
      ]
    },
    {
      "cell_type": "code",
      "execution_count": 7,
      "metadata": {},
      "outputs": [
        {
          "name": "stdout",
          "output_type": "stream",
          "text": [
            "0 START\n",
            "0 END\n",
            "1 START\n",
            "1 END\n",
            "2 START\n",
            "2 END\n",
            "3 START\n",
            "3 END\n",
            "4 START\n",
            "4 END\n",
            "5 START\n",
            "5 END\n",
            "6 START\n",
            "6 END\n",
            "7 START\n",
            "7 END\n",
            "8 START\n",
            "8 END\n",
            "9 START\n",
            "9 END\n",
            "10 START\n",
            "10 END\n",
            "11 START\n",
            "11 END\n",
            "12 START\n",
            "12 END\n",
            "13 START\n",
            "13 END\n",
            "14 START\n",
            "14 END\n",
            "15 START\n",
            "15 END\n",
            "16 START\n",
            "16 END\n",
            "17 START\n",
            "17 END\n",
            "18 START\n",
            "18 END\n",
            "19 START\n",
            "19 END\n"
          ]
        }
      ],
      "source": [
        "result = dict()\n",
        "for dirNumber in range(len(directories)):\n",
        "    numFiles = int(len(os.listdir(directories[dirNumber])))\n",
        "    par_result = dict()\n",
        "    print(dirNumber,\"START\")\n",
        "    for i in range(len(threads)):\n",
        "        for key,value in count[i][dirNumber].items():\n",
        "            if key in par_result:\n",
        "                par_result[key]+=value               \n",
        "            else:\n",
        "                par_result[key]=value\n",
        "    print(dirNumber,\"END\")\n",
        "    for key,value in par_result.items():\n",
        "        if key in result:\n",
        "            result[key] = max(result[key],value/numFiles)\n",
        "        else:\n",
        "            result[key] = value/numFiles "
      ]
    },
    {
      "cell_type": "code",
      "execution_count": 5,
      "metadata": {},
      "outputs": [
        {
          "data": {
            "text/plain": [
              "4382541"
            ]
          },
          "execution_count": 5,
          "metadata": {},
          "output_type": "execute_result"
        }
      ],
      "source": [
        "len(result)"
      ]
    },
    {
      "cell_type": "code",
      "execution_count": null,
      "metadata": {},
      "outputs": [],
      "source": [
        "result = dict(sorted(result.items(), key=lambda item: -item[1]))\n",
        "for key,value in result.items():\n",
        "    if k>0:\n",
        "        print(key,value)\n",
        "        k-=1\n",
        "    else:\n",
        "        break\n",
        "\n",
        "end = time.time()\n",
        "print(\"Time taken: \",end - start)\n",
        "print(len(result))"
      ]
    },
    {
      "cell_type": "code",
      "execution_count": 2,
      "metadata": {},
      "outputs": [
        {
          "name": "stdout",
          "output_type": "stream",
          "text": [
            "234232\n"
          ]
        }
      ],
      "source": [
        "print(len(answer))"
      ]
    },
    {
      "cell_type": "code",
      "execution_count": 3,
      "metadata": {
        "colab": {
          "base_uri": "https://localhost:8080/"
        },
        "id": "hpNThEhPD7qn",
        "outputId": "ea1702df-bec0-45b7-c764-54df9b67e95b"
      },
      "outputs": [
        {
          "data": {
            "text/plain": [
              "[('srv cs cmu edu ', 2.86)]"
            ]
          },
          "execution_count": 3,
          "metadata": {},
          "output_type": "execute_result"
        }
      ],
      "source": [
        "sorted(answer.items(), key=lambda item: -item[1])[:1]"
      ]
    }
  ],
  "metadata": {
    "colab": {
      "provenance": []
    },
    "kernelspec": {
      "display_name": "Python 3",
      "language": "python",
      "name": "python3"
    },
    "language_info": {
      "codemirror_mode": {
        "name": "ipython",
        "version": 3
      },
      "file_extension": ".py",
      "mimetype": "text/x-python",
      "name": "python",
      "nbconvert_exporter": "python",
      "pygments_lexer": "ipython3",
      "version": "3.9.5"
    },
    "vscode": {
      "interpreter": {
        "hash": "23f0d9fb0a6e9bd35cf3abacc0e6b752923e90e9bf8e0b98e79928d6833e64ca"
      }
    }
  },
  "nbformat": 4,
  "nbformat_minor": 0
}
